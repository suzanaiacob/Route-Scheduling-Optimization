{
 "cells": [
  {
   "cell_type": "code",
   "execution_count": 1,
   "metadata": {},
   "outputs": [],
   "source": [
    "# Load necessary packages\n",
    "using CSV, JuMP, Gurobi, DataFrames"
   ]
  },
  {
   "cell_type": "code",
   "execution_count": 2,
   "metadata": {},
   "outputs": [
    {
     "data": {
      "text/html": [
       "<table class=\"data-frame\"><thead><tr><th></th><th>Client</th><th>A_i</th><th>B_i</th><th>D_i</th><th>Type</th></tr><tr><th></th><th>Int64</th><th>Float64</th><th>Float64</th><th>Int64</th><th>String</th></tr></thead><tbody><p>54 rows × 5 columns</p><tr><th>1</th><td>1</td><td>15.0</td><td>17.0</td><td>1063</td><td>Client</td></tr><tr><th>2</th><td>2</td><td>19.0</td><td>21.0</td><td>1696</td><td>Client</td></tr><tr><th>3</th><td>3</td><td>7.0</td><td>25.0</td><td>12</td><td>Client</td></tr><tr><th>4</th><td>4</td><td>15.0</td><td>20.0</td><td>43</td><td>Client</td></tr><tr><th>5</th><td>5</td><td>20.0</td><td>25.0</td><td>178</td><td>Client</td></tr><tr><th>6</th><td>6</td><td>15.0</td><td>17.0</td><td>9</td><td>Client</td></tr><tr><th>7</th><td>7</td><td>12.55</td><td>23.9833</td><td>1</td><td>Client</td></tr><tr><th>8</th><td>8</td><td>15.8167</td><td>23.9833</td><td>1</td><td>Client</td></tr><tr><th>9</th><td>9</td><td>16.2</td><td>23.9833</td><td>1</td><td>Client</td></tr><tr><th>10</th><td>10</td><td>10.4333</td><td>23.9833</td><td>1</td><td>Client</td></tr><tr><th>11</th><td>11</td><td>18.5</td><td>22.0</td><td>234</td><td>Client</td></tr><tr><th>12</th><td>12</td><td>14.3</td><td>23.9833</td><td>15</td><td>Client</td></tr><tr><th>13</th><td>13</td><td>7.0</td><td>14.0</td><td>8</td><td>Client</td></tr><tr><th>14</th><td>14</td><td>14.4333</td><td>23.9833</td><td>2</td><td>Client</td></tr><tr><th>15</th><td>15</td><td>14.75</td><td>23.9833</td><td>1</td><td>Client</td></tr><tr><th>16</th><td>16</td><td>16.5167</td><td>23.9833</td><td>1</td><td>Client</td></tr><tr><th>17</th><td>17</td><td>11.5167</td><td>23.9833</td><td>1</td><td>Client</td></tr><tr><th>18</th><td>18</td><td>13.9333</td><td>23.9833</td><td>1</td><td>Client</td></tr><tr><th>19</th><td>19</td><td>10.0667</td><td>23.9833</td><td>1</td><td>Client</td></tr><tr><th>20</th><td>20</td><td>10.5167</td><td>23.9833</td><td>3</td><td>Client</td></tr><tr><th>21</th><td>21</td><td>10.8667</td><td>23.9833</td><td>3</td><td>Client</td></tr><tr><th>22</th><td>22</td><td>12.0167</td><td>23.9833</td><td>2</td><td>Client</td></tr><tr><th>23</th><td>23</td><td>12.8167</td><td>23.9833</td><td>2</td><td>Client</td></tr><tr><th>24</th><td>24</td><td>9.6</td><td>23.9833</td><td>3</td><td>Client</td></tr><tr><th>25</th><td>25</td><td>9.88333</td><td>23.9833</td><td>4</td><td>Client</td></tr><tr><th>26</th><td>26</td><td>9.95</td><td>23.9833</td><td>4</td><td>Client</td></tr><tr><th>27</th><td>27</td><td>18.5</td><td>25.0</td><td>1627</td><td>Client</td></tr><tr><th>28</th><td>28</td><td>14.5667</td><td>23.9833</td><td>2</td><td>Client</td></tr><tr><th>29</th><td>29</td><td>14.6333</td><td>23.9833</td><td>1</td><td>Client</td></tr><tr><th>30</th><td>30</td><td>14.8667</td><td>23.9833</td><td>1</td><td>Client</td></tr><tr><th>&vellip;</th><td>&vellip;</td><td>&vellip;</td><td>&vellip;</td><td>&vellip;</td><td>&vellip;</td></tr></tbody></table>"
      ],
      "text/latex": [
       "\\begin{tabular}{r|ccccc}\n",
       "\t& Client & A\\_i & B\\_i & D\\_i & Type\\\\\n",
       "\t\\hline\n",
       "\t& Int64 & Float64 & Float64 & Int64 & String\\\\\n",
       "\t\\hline\n",
       "\t1 & 1 & 15.0 & 17.0 & 1063 & Client \\\\\n",
       "\t2 & 2 & 19.0 & 21.0 & 1696 & Client \\\\\n",
       "\t3 & 3 & 7.0 & 25.0 & 12 & Client \\\\\n",
       "\t4 & 4 & 15.0 & 20.0 & 43 & Client \\\\\n",
       "\t5 & 5 & 20.0 & 25.0 & 178 & Client \\\\\n",
       "\t6 & 6 & 15.0 & 17.0 & 9 & Client \\\\\n",
       "\t7 & 7 & 12.55 & 23.9833 & 1 & Client \\\\\n",
       "\t8 & 8 & 15.8167 & 23.9833 & 1 & Client \\\\\n",
       "\t9 & 9 & 16.2 & 23.9833 & 1 & Client \\\\\n",
       "\t10 & 10 & 10.4333 & 23.9833 & 1 & Client \\\\\n",
       "\t11 & 11 & 18.5 & 22.0 & 234 & Client \\\\\n",
       "\t12 & 12 & 14.3 & 23.9833 & 15 & Client \\\\\n",
       "\t13 & 13 & 7.0 & 14.0 & 8 & Client \\\\\n",
       "\t14 & 14 & 14.4333 & 23.9833 & 2 & Client \\\\\n",
       "\t15 & 15 & 14.75 & 23.9833 & 1 & Client \\\\\n",
       "\t16 & 16 & 16.5167 & 23.9833 & 1 & Client \\\\\n",
       "\t17 & 17 & 11.5167 & 23.9833 & 1 & Client \\\\\n",
       "\t18 & 18 & 13.9333 & 23.9833 & 1 & Client \\\\\n",
       "\t19 & 19 & 10.0667 & 23.9833 & 1 & Client \\\\\n",
       "\t20 & 20 & 10.5167 & 23.9833 & 3 & Client \\\\\n",
       "\t21 & 21 & 10.8667 & 23.9833 & 3 & Client \\\\\n",
       "\t22 & 22 & 12.0167 & 23.9833 & 2 & Client \\\\\n",
       "\t23 & 23 & 12.8167 & 23.9833 & 2 & Client \\\\\n",
       "\t24 & 24 & 9.6 & 23.9833 & 3 & Client \\\\\n",
       "\t25 & 25 & 9.88333 & 23.9833 & 4 & Client \\\\\n",
       "\t26 & 26 & 9.95 & 23.9833 & 4 & Client \\\\\n",
       "\t27 & 27 & 18.5 & 25.0 & 1627 & Client \\\\\n",
       "\t28 & 28 & 14.5667 & 23.9833 & 2 & Client \\\\\n",
       "\t29 & 29 & 14.6333 & 23.9833 & 1 & Client \\\\\n",
       "\t30 & 30 & 14.8667 & 23.9833 & 1 & Client \\\\\n",
       "\t$\\dots$ & $\\dots$ & $\\dots$ & $\\dots$ & $\\dots$ & $\\dots$ \\\\\n",
       "\\end{tabular}\n"
      ],
      "text/plain": [
       "54×5 DataFrame\n",
       "│ Row │ Client │ A_i     │ B_i     │ D_i   │ Type   │\n",
       "│     │ \u001b[90mInt64\u001b[39m  │ \u001b[90mFloat64\u001b[39m │ \u001b[90mFloat64\u001b[39m │ \u001b[90mInt64\u001b[39m │ \u001b[90mString\u001b[39m │\n",
       "├─────┼────────┼─────────┼─────────┼───────┼────────┤\n",
       "│ 1   │ 1      │ 15.0    │ 17.0    │ 1063  │ Client │\n",
       "│ 2   │ 2      │ 19.0    │ 21.0    │ 1696  │ Client │\n",
       "│ 3   │ 3      │ 7.0     │ 25.0    │ 12    │ Client │\n",
       "│ 4   │ 4      │ 15.0    │ 20.0    │ 43    │ Client │\n",
       "│ 5   │ 5      │ 20.0    │ 25.0    │ 178   │ Client │\n",
       "│ 6   │ 6      │ 15.0    │ 17.0    │ 9     │ Client │\n",
       "│ 7   │ 7      │ 12.55   │ 23.9833 │ 1     │ Client │\n",
       "│ 8   │ 8      │ 15.8167 │ 23.9833 │ 1     │ Client │\n",
       "│ 9   │ 9      │ 16.2    │ 23.9833 │ 1     │ Client │\n",
       "│ 10  │ 10     │ 10.4333 │ 23.9833 │ 1     │ Client │\n",
       "⋮\n",
       "│ 44  │ 44     │ 16.0333 │ 23.9833 │ 1     │ Client │\n",
       "│ 45  │ 45     │ 16.2167 │ 23.9833 │ 1     │ Client │\n",
       "│ 46  │ 46     │ 16.5    │ 21.0    │ 223   │ Client │\n",
       "│ 47  │ 47     │ 10.0    │ 23.9833 │ 1     │ Client │\n",
       "│ 48  │ 48     │ 8.1     │ 23.9833 │ 1     │ Client │\n",
       "│ 49  │ 49     │ 9.21667 │ 23.9833 │ 1     │ Client │\n",
       "│ 50  │ 50     │ 9.23333 │ 23.9833 │ 1     │ Client │\n",
       "│ 51  │ 51     │ 0.0     │ 24.0    │ 0     │ Hub    │\n",
       "│ 52  │ 52     │ 0.0     │ 24.0    │ 0     │ Hub    │\n",
       "│ 53  │ 53     │ 0.0     │ 24.0    │ 0     │ Hub    │\n",
       "│ 54  │ 54     │ 19.0    │ 24.0    │ 0     │ Lab    │"
      ]
     },
     "execution_count": 2,
     "metadata": {},
     "output_type": "execute_result"
    }
   ],
   "source": [
    "demand = CSV.read(\"Mock Demand.csv\", header=true)\n",
    "dist = CSV.read(\"Mock Time.csv\", header=true)\n",
    "dist = dist[:,2:size(dist,2)]\n",
    "demand"
   ]
  },
  {
   "cell_type": "code",
   "execution_count": 4,
   "metadata": {},
   "outputs": [],
   "source": [
    "dist = convert(Matrix, dist);\n",
    "demand = convert(Matrix, demand);"
   ]
  },
  {
   "cell_type": "code",
   "execution_count": 26,
   "metadata": {},
   "outputs": [
    {
     "name": "stdout",
     "output_type": "stream",
     "text": [
      "Academic license - for non-commercial use only\r\n"
     ]
    },
    {
     "data": {
      "text/plain": [
       ":Optimal"
      ]
     },
     "execution_count": 26,
     "metadata": {},
     "output_type": "execute_result"
    }
   ],
   "source": [
    "lab = 1; \n",
    "start_hub = 2;\n",
    "end_hub = 4;\n",
    "start_client = 5; \n",
    "end_client = 54; \n",
    "\n",
    "K = 15\n",
    "target = sum(demand[:,4])\n",
    "limit = 8\n",
    "\n",
    "# Create model\n",
    "m = Model(solver=GurobiSolver(OutputFlag = 0));\n",
    "\n",
    "# Create variables\n",
    "@variable(m, x[i=lab:end_client, j=lab:end_client, k=1:K], Bin); # All\n",
    "@variable(m, e[j=lab:end_hub, k=1:K], Bin) # Hubs and lab\n",
    "@variable(m, g[i=lab:end_client, k=1:K], Bin) # All\n",
    "@variable(m, s[i=lab:end_client, k=1:K] >= 0) # All\n",
    "@variable(m, q[i=start_hub:end_client, k=1:K] >= 0) # Clients and hubs\n",
    "@variable(m, del[i=lab, k=1:K, h=19:24] >= 0) # Lab\n",
    "@variable(m, inv[j=start_hub:end_hub, k=1:K] >= 0) # Hubs\n",
    "@variable(m, y[k=1:K], Bin)\n",
    "@variable(m, z[i=lab, k=1:K, h=19:24], Bin) # Lab\n",
    "\n",
    "# Create objective\n",
    "@objective(m, Min, sum(sum(sum((h-7)^2*del[i,k,h] for h in 19:24) for k in 1:K) for i in lab))\n",
    "\n",
    "# Create constraints\n",
    "@constraint(m, [i=lab:end_client, j=lab:end_client, k=1:K], x[i,j,k] <= y[k]) # i=all, j=all\n",
    "@constraint(m, sum(y) <= K)\n",
    "@constraint(m, [i=start_client:end_client], sum(sum(x[i,j,k] for k in 1:K) for j in lab:end_client) == 1) # i=clients, j=all\n",
    "@constraint(m, [i=start_hub:end_hub], sum(sum(x[i,j,k] for k in 1:K) for j in lab:end_client) <= 1) # i=hubs, j=all\n",
    "@constraint(m, [i=lab:end_client, j=lab:end_client, k=1:K], s[j,k] - s[i,k] <= limit) # i=all, j=all\n",
    "@constraint(m, [k=1:K], sum(sum(x[i,j,k] for j in lab:end_client) for i in lab:end_client) + \n",
    "    sum(e[j,k] for j in lab:end_hub) == # j=all, i=all, j=hubs/lab\n",
    "    sum(sum(x[j,i,k] for j in start_client:end_client) for i in lab:end_client) + \n",
    "    sum(g[i,k] for i in start_client:end_client)) # j=clients, i=all, i=clients\n",
    "@constraint(m, [j=lab:end_hub, k=1:K], e[j,k] == sum(x[i,j,k] for i in start_client:end_client) - \n",
    "    sum(x[j,i,k] for i in lab:end_hub)) # j=hubs+lab, i=clients, i=hubs/lab\n",
    "@constraint(m, [k=1:K], sum(g[:,k]) == 1)\n",
    "@constraint(m, [k=1:K], sum(e[:,k]) == 1)\n",
    "@constraint(m, [i=lab:end_hub, k=1:K], g[i,k] == 0) # i=hubs and lab\n",
    "@constraint(m, [i=start_client:end_client, k=1:K], g[i,k] == sum(x[i,j,k] for j in lab:end_client) - \n",
    "    sum(x[j,i,k] for j in lab:end_client)) # i=clients, j=all\n",
    "@constraint(m, [i=lab:end_hub, j=start_hub:end_client, k=1:K], x[i,j,k] == 0) # i=hubs+lab, j=clients+hubs\n",
    "@constraint(m, [i=lab:end_client, k=1:K], x[i,i,k] == 0) # i=all\n",
    "@constraint(m, [i=lab:end_client, j=lab:end_client, k=1:K], s[i,k] + dist[i,j] - 26*(1-x[i,j,k]) <= s[j,k]) # i=all, j=all\n",
    "@constraint(m, [i=lab:end_client, k=1:K], demand[i,2] <= s[i,k]) # i=all\n",
    "@constraint(m, [i=lab:end_client, k=1:K], demand[i,3] >= s[i,k]) # i=all\n",
    "@constraint(m, [i=start_client:end_client], sum(q[i,:]) == demand[i,4]) # i=clients\n",
    "@constraint(m, [i=start_client:end_client, k=1:K], q[i,k] <= 10000*sum(x[i,j,k] for j in lab:end_client)) # i=clients, j=all\n",
    "@constraint(m, sum(sum(sum(del[i,k,h] for h in 19:24) for k=1:K) for i in lab) == target) # i=lab\n",
    "@constraint(m, [i=lab, k=1:K, h=19:24], z[i,k,h] <= sum(x[j,i,k] for j in start_hub:end_client)) # i=lab, j=clients+hubs\n",
    "@constraint(m, [k=1:K], sum(sum(z[i,k,h] for i in lab) for h in 19:24) <= 1) # i=lab\n",
    "@constraint(m, [j=start_hub:end_hub, k=1:K], sum(q[i,k] for i in start_client:end_client) - \n",
    "    10000*(1-sum(x[i,j,k] for i in start_client:end_client)) <= inv[j,k]) # i=clients, j=hubs\n",
    "@constraint(m, [j=start_hub:end_hub, k=1:K], sum(q[i,k] for i in start_client:end_client) + \n",
    "    10000*(1-sum(x[i,j,k] for i in start_client:end_client)) >= inv[j,k]) # j=hubs, i=clients\n",
    "@constraint(m, [j=start_hub:end_hub, k=1:K], inv[j,k] <= 10000*sum(x[i,j,k] for i in start_hub:end_hub)) # j=hubs, i=clients\n",
    "@constraint(m, [j=start_hub:end_hub], sum(q[j,k] for k in 1:K) == sum(inv[j,k] for k in 1:K)) # j=hubs\n",
    "@constraint(m, [j=start_hub:end_hub, k=1:K], q[j,k] <= 10000*sum(x[j,i,k] for i in lab:end_hub)) # j=hubs, i=hubs+lab\n",
    "@constraint(m, [i=lab, k=1:K, h=19:24], -10000*(1-z[i,k,h]) <= s[i,k] - h) # i=lab\n",
    "@constraint(m, [i=lab, k=1:K, h=19:24], 1 + 10000*(1-z[i,k,h]) >= s[i,k] - h) # i=lab\n",
    "@constraint(m, [j=lab, k=1:K, h=19:24], -10000*(1-z[j,k,h]) + \n",
    "    sum(q[i,k] for i in start_hub:end_client) <= del[j,k,h]) # j=lab, i=clients+hubs\n",
    "@constraint(m, [j=lab, k=1:K, h=19:24], 10000*(1-z[j,k,h]) + \n",
    "    sum(q[i,k] for i in start_hub:end_client) >= del[j,k,h]) # j=lab, i=clients+hubs\n",
    "\n",
    "solve(m)"
   ]
  },
  {
   "cell_type": "code",
   "execution_count": 24,
   "metadata": {},
   "outputs": [
    {
     "data": {
      "text/plain": [
       "54×16 Array{Float64,2}:\n",
       " 15.0     17.0     17.0     17.0     …  17.0     17.0     17.0     17.0   \n",
       " 19.0     19.0     19.0     19.0        19.0     19.0     19.0     19.0   \n",
       " 14.0     14.0     13.9833  14.0        14.0     14.0     14.0     14.0   \n",
       " 15.0     15.0     15.0     15.0        15.0     15.0     15.0     15.0   \n",
       " 20.0     20.0     20.0     20.0        20.0     20.0     20.0     20.0   \n",
       " 15.0     15.0     17.0     15.0     …  15.0     15.0     15.0     15.0   \n",
       " 14.0     14.0     13.9833  14.0        14.0     14.0     12.55    14.0   \n",
       " 15.8167  15.8167  15.8167  15.8167     15.8167  15.8167  15.8167  15.8167\n",
       " 16.2     16.2     16.2     19.85       16.2     16.2     16.2     16.2   \n",
       " 16.0     14.0     13.9833  14.0        14.0     14.0     14.0     14.0   \n",
       " 18.5     18.5     18.5     18.5     …  18.5     18.5     18.5     18.5   \n",
       " 23.0     14.3     14.3     14.3        14.3     14.3     14.3     14.3   \n",
       " 14.0     14.0     14.0     14.0        14.0     14.0     14.0     14.0   \n",
       "  ⋮                                  ⋱                              ⋮     \n",
       " 16.0     16.0     16.0     16.0        16.0     16.0     16.0     16.0   \n",
       " 16.0333  16.0333  16.0333  16.0333     16.0333  16.0333  16.0333  16.0333\n",
       " 16.2167  16.2167  16.2167  16.2167     16.2167  16.2167  16.2167  16.2167\n",
       " 16.5     16.5     16.5     16.5     …  16.5     16.5     16.5     16.5   \n",
       " 14.0     14.0     13.9833  14.0        14.0     14.0     14.0     14.0   \n",
       " 23.9833  14.0     11.5667  17.35       14.0     13.45    10.0     14.0   \n",
       " 14.0     14.0     13.9833  14.0        14.0     14.0     14.0     14.0   \n",
       " 14.0     14.0     13.9833  14.0        14.0     14.0     14.0     14.0   \n",
       " 20.0     20.0     20.0     20.0     …  20.0     20.0     20.0     20.0   \n",
       " 20.0     20.0     20.0     20.0        20.0     20.0     20.0     20.0   \n",
       " 20.0     20.0     20.0     20.0        20.0     20.0     20.0     20.0   \n",
       " 24.0     20.0     20.0     23.6        20.0     23.45    20.0     24.0   "
      ]
     },
     "execution_count": 24,
     "metadata": {},
     "output_type": "execute_result"
    }
   ],
   "source": [
    "(getvalue(s))"
   ]
  },
  {
   "cell_type": "code",
   "execution_count": 25,
   "metadata": {},
   "outputs": [
    {
     "data": {
      "text/plain": [
       "50-element Array{CartesianIndex{3},1}:\n",
       " CartesianIndex(1, 10, 1)  \n",
       " CartesianIndex(38, 12, 1) \n",
       " CartesianIndex(10, 14, 1) \n",
       " CartesianIndex(35, 21, 1) \n",
       " CartesianIndex(25, 22, 1) \n",
       " CartesianIndex(26, 23, 1) \n",
       " CartesianIndex(23, 25, 1) \n",
       " CartesianIndex(21, 26, 1) \n",
       " CartesianIndex(14, 35, 1) \n",
       " CartesianIndex(22, 36, 1) \n",
       " CartesianIndex(36, 38, 1) \n",
       " CartesianIndex(12, 54, 1) \n",
       " CartesianIndex(20, 54, 2) \n",
       " ⋮                         \n",
       " CartesianIndex(18, 54, 9) \n",
       " CartesianIndex(5, 15, 10) \n",
       " CartesianIndex(15, 54, 10)\n",
       " CartesianIndex(45, 54, 11)\n",
       " CartesianIndex(47, 8, 12) \n",
       " CartesianIndex(8, 54, 12) \n",
       " CartesianIndex(31, 54, 13)\n",
       " CartesianIndex(46, 54, 14)\n",
       " CartesianIndex(7, 19, 15) \n",
       " CartesianIndex(19, 34, 15)\n",
       " CartesianIndex(34, 54, 15)\n",
       " CartesianIndex(42, 54, 16)"
      ]
     },
     "execution_count": 25,
     "metadata": {},
     "output_type": "execute_result"
    }
   ],
   "source": [
    "findall(getvalue(x) .> 0)"
   ]
  },
  {
   "cell_type": "code",
   "execution_count": 22,
   "metadata": {},
   "outputs": [
    {
     "data": {
      "text/plain": [
       "19.669999999999806"
      ]
     },
     "execution_count": 22,
     "metadata": {},
     "output_type": "execute_result"
    }
   ],
   "source": [
    "getvalue(s[29,1])"
   ]
  },
  {
   "cell_type": "code",
   "execution_count": 10,
   "metadata": {},
   "outputs": [
    {
     "data": {
      "text/plain": [
       "e: 2 dimensions:\n",
       "[51,:]\n",
       "  [51, 1] = 0.0\n",
       "  [51, 2] = 0.0\n",
       "  [51, 3] = 0.0\n",
       "  [51, 4] = 0.0\n",
       "  [51, 5] = 0.0\n",
       "  [51, 6] = 0.0\n",
       "  [51, 7] = 0.0\n",
       "  [51, 8] = 0.0\n",
       "  [51, 9] = 0.0\n",
       "  [51,10] = 0.0\n",
       "  [51,11] = 0.0\n",
       "  [51,12] = 0.0\n",
       "  [51,13] = 0.0\n",
       "  [51,14] = 0.0\n",
       "  [51,15] = 0.0\n",
       "  [51,16] = 0.0\n",
       "  [51,17] = 0.0\n",
       "  [51,18] = 0.0\n",
       "  [51,19] = 0.0\n",
       "  [51,20] = 0.0\n",
       "[52,:]\n",
       "  [52, 1] = 0.0\n",
       "  [52, 2] = 0.0\n",
       "  [52, 3] = 0.0\n",
       "  [52, 4] = 0.0\n",
       "  [52, 5] = 0.0\n",
       "  [52, 6] = 0.0\n",
       "  [52, 7] = 0.0\n",
       "  [52, 8] = 0.0\n",
       "  [52, 9] = 0.0\n",
       "  [52,10] = 0.0\n",
       "  [52,11] = 0.0\n",
       "  [52,12] = 0.0\n",
       "  [52,13] = 0.0\n",
       "  [52,14] = 0.0\n",
       "  [52,15] = 0.0\n",
       "  [52,16] = 0.0\n",
       "  [52,17] = 0.0\n",
       "  [52,18] = 0.0\n",
       "  [52,19] = 0.0\n",
       "  [52,20] = 0.0\n",
       "[53,:]\n",
       "  [53, 1] = 0.0\n",
       "  [53, 2] = 0.0\n",
       "  [53, 3] = 0.0\n",
       "  [53, 4] = 0.0\n",
       "  [53, 5] = 0.0\n",
       "  [53, 6] = 0.0\n",
       "  [53, 7] = 0.0\n",
       "  [53, 8] = 0.0\n",
       "  [53, 9] = 0.0\n",
       "  [53,10] = 0.0\n",
       "  [53,11] = 0.0\n",
       "  [53,12] = 0.0\n",
       "  [53,13] = 0.0\n",
       "  [53,14] = 0.0\n",
       "  [53,15] = 0.0\n",
       "  [53,16] = 0.0\n",
       "  [53,17] = 0.0\n",
       "  [53,18] = 0.0\n",
       "  [53,19] = 0.0\n",
       "  [53,20] = 0.0\n",
       "[54,:]\n",
       "  [54, 1] = 1.0\n",
       "  [54, 2] = 1.0\n",
       "  [54, 3] = 1.0\n",
       "  [54, 4] = 1.0\n",
       "  [54, 5] = 1.0\n",
       "  [54, 6] = 1.0\n",
       "  [54, 7] = 1.0\n",
       "  [54, 8] = 1.0\n",
       "  [54, 9] = 1.0\n",
       "  [54,10] = 1.0\n",
       "  [54,11] = 1.0\n",
       "  [54,12] = 1.0\n",
       "  [54,13] = 1.0\n",
       "  [54,14] = 1.0\n",
       "  [54,15] = 1.0\n",
       "  [54,16] = 1.0\n",
       "  [54,17] = 1.0\n",
       "  [54,18] = 1.0\n",
       "  [54,19] = 1.0\n",
       "  [54,20] = 1.0"
      ]
     },
     "execution_count": 10,
     "metadata": {},
     "output_type": "execute_result"
    }
   ],
   "source": [
    "getvalue(e)"
   ]
  }
 ],
 "metadata": {
  "kernelspec": {
   "display_name": "Julia 1.2.0",
   "language": "julia",
   "name": "julia-1.2"
  },
  "language_info": {
   "file_extension": ".jl",
   "mimetype": "application/julia",
   "name": "julia",
   "version": "1.2.0"
  }
 },
 "nbformat": 4,
 "nbformat_minor": 2
}
